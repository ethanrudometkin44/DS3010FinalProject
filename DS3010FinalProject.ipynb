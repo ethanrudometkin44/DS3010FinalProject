{
  "cells": [
    {
      "cell_type": "code",
      "execution_count": null,
      "metadata": {
        "colab": {
          "base_uri": "https://localhost:8080/"
        },
        "id": "Ri70Mwkg6MWr",
        "outputId": "2de4cfc7-0352-4c0b-b6ac-ca250c424ba2"
      },
      "outputs": [
        {
          "output_type": "stream",
          "name": "stdout",
          "text": [
            "Mounted at /content/drive\n"
          ]
        }
      ],
      "source": [
        "from google.colab import drive\n",
        "drive.mount('/content/drive')"
      ]
    },
    {
      "cell_type": "markdown",
      "metadata": {
        "id": "3CwBLbi0BjW2"
      },
      "source": [
        "#Task 1"
      ]
    },
    {
      "cell_type": "code",
      "execution_count": null,
      "metadata": {
        "id": "m2v5smWqr2H_"
      },
      "outputs": [],
      "source": [
        "import pandas as pd\n",
        "\n",
        "# Read the CSV file into a pandas dataframe\n",
        "path = '/content/drive/MyDrive/DS 3010/yelp_business.csv'\n",
        "df_business = pd.read_csv(path)\n",
        "path = '/content/drive/MyDrive/DS 3010/yelp_business_attributes.csv'\n",
        "df_attributes = pd.read_csv(path)\n",
        "path = '/content/drive/MyDrive/DS 3010/yelp_r.csv'\n",
        "df_review = pd.read_csv(path)\n",
        "path = '/content/drive/MyDrive/DS 3010/yelp_tip.csv'\n",
        "df_tip = pd.read_csv(path)"
      ]
    },
    {
      "cell_type": "code",
      "execution_count": null,
      "metadata": {
        "colab": {
          "base_uri": "https://localhost:8080/"
        },
        "id": "vo6FtDjBi3EX",
        "outputId": "60ee4610-17e4-47f9-ed2b-46ecef752760"
      },
      "outputs": [
        {
          "output_type": "stream",
          "name": "stdout",
          "text": [
            "22006\n",
            "               business_id  review_count\n",
            "4   PfOCPjBrlQAnz__NXj9h_w           116\n",
            "18  0FMKDOU8TJT1x87OKYGDTg            65\n",
            "33  FXHfcFVEfI1vVngW2gVOpw            55\n",
            "40  tRVx2c89coruPRwYhGTcTw            78\n",
            "46  1WBkAuQg81kokZIPMpn9Zg           232\n"
          ]
        }
      ],
      "source": [
        "# Filter the business dataset so it contains \"business_id\" and \"review_count\"\n",
        "df_business = df_business[['business_id', 'review_count']]\n",
        "# Filter the rows based on the value of the 'review_count' column\n",
        "df_business = df_business[df_business['review_count'] >= 50]\n",
        "print(len(df_business))\n",
        "print(df_business.head())"
      ]
    },
    {
      "cell_type": "code",
      "execution_count": null,
      "metadata": {
        "id": "rPErCBFOyB-1"
      },
      "outputs": [],
      "source": [
        "true_counts = df_attributes.apply(lambda x: x[x == 'True'].count())"
      ]
    },
    {
      "cell_type": "code",
      "execution_count": null,
      "metadata": {
        "colab": {
          "base_uri": "https://localhost:8080/"
        },
        "id": "cqPcOciuzAN0",
        "outputId": "1ca13175-1731-464f-acfe-71e5b12dd354"
      },
      "outputs": [
        {
          "output_type": "stream",
          "name": "stdout",
          "text": [
            "business_id                              0\n",
            "AcceptsInsurance                         0\n",
            "ByAppointmentOnly                       92\n",
            "BusinessAcceptsCreditCards           11131\n",
            "BusinessParking_garage               18845\n",
            "BusinessParking_street                1697\n",
            "BusinessParking_validated             7498\n",
            "BusinessParking_lot                    195\n",
            "BusinessParking_valet                14598\n",
            "HairSpecializesIn_coloring             786\n",
            "HairSpecializesIn_africanamerican        1\n",
            "HairSpecializesIn_curly                  0\n",
            "HairSpecializesIn_perms                  0\n",
            "HairSpecializesIn_kids                   0\n",
            "HairSpecializesIn_extensions             0\n",
            "HairSpecializesIn_asian                  0\n",
            "HairSpecializesIn_straightperms          0\n",
            "RestaurantsPriceRange2                   1\n",
            "GoodForKids                              0\n",
            "WheelchairAccessible                 17838\n",
            "BikeParking                          34045\n",
            "Alcohol                               7632\n",
            "HasTV                                    0\n",
            "NoiseLevel                             106\n",
            "RestaurantsAttire                        0\n",
            "Music_dj                                 0\n",
            "Music_background_music                   8\n",
            "Music_no_music                           5\n",
            "Music_karaoke                            0\n",
            "Music_live                               1\n",
            "Music_video                              4\n",
            "Music_jukebox                            1\n",
            "Ambience_romantic                        6\n",
            "Ambience_intimate                        0\n",
            "Ambience_classy                          0\n",
            "Ambience_hipster                         0\n",
            "Ambience_divey                           0\n",
            "Ambience_touristy                        0\n",
            "Ambience_trendy                          0\n",
            "Ambience_upscale                         0\n",
            "Ambience_casual                          0\n",
            "RestaurantsGoodForGroups                 0\n",
            "Caters                                1601\n",
            "WiFi                                    60\n",
            "RestaurantsReservations                  0\n",
            "RestaurantsTakeOut                     114\n",
            "HappyHour                             5070\n",
            "GoodForDancing                         106\n",
            "RestaurantsTableService                794\n",
            "OutdoorSeating                         908\n",
            "RestaurantsDelivery                    266\n",
            "BestNights_monday                     1178\n",
            "BestNights_tuesday                       2\n",
            "BestNights_friday                        4\n",
            "BestNights_wednesday                    21\n",
            "BestNights_thursday                      6\n",
            "BestNights_sunday                        9\n",
            "BestNights_saturday                      3\n",
            "GoodForMeal_dessert                     21\n",
            "GoodForMeal_latenight                  122\n",
            "GoodForMeal_lunch                       82\n",
            "GoodForMeal_dinner                    1129\n",
            "GoodForMeal_breakfast                 1053\n",
            "GoodForMeal_brunch                     248\n",
            "CoatCheck                              249\n",
            "Smoking                                 27\n",
            "DriveThru                                0\n",
            "DogsAllowed                           2346\n",
            "BusinessAcceptsBitcoin                 218\n",
            "Open24Hours                             61\n",
            "BYOBCorkage                              0\n",
            "BYOB                                     0\n",
            "Corkage                                  0\n",
            "DietaryRestrictions_dairy-free           0\n",
            "DietaryRestrictions_gluten-free         12\n",
            "DietaryRestrictions_vegan               19\n",
            "DietaryRestrictions_kosher              47\n",
            "DietaryRestrictions_halal                3\n",
            "DietaryRestrictions_soy-free             4\n",
            "DietaryRestrictions_vegetarian           5\n",
            "AgesAllowed                             48\n",
            "RestaurantsCounterService                0\n"
          ]
        }
      ],
      "source": [
        "print(true_counts.to_string())"
      ]
    },
    {
      "cell_type": "code",
      "execution_count": null,
      "metadata": {
        "id": "LWVI-byo0AqE"
      },
      "outputs": [],
      "source": [
        "false_counts = df_attributes.apply(lambda x: x[x == 'False'].count())"
      ]
    },
    {
      "cell_type": "code",
      "execution_count": null,
      "metadata": {
        "colab": {
          "base_uri": "https://localhost:8080/"
        },
        "id": "QRRYJ39O0A8z",
        "outputId": "8d6e2dda-229e-4db2-f11a-9b4b9496ad65"
      },
      "outputs": [
        {
          "output_type": "stream",
          "name": "stdout",
          "text": [
            "business_id                              0\n",
            "AcceptsInsurance                         0\n",
            "ByAppointmentOnly                        3\n",
            "BusinessAcceptsCreditCards           12450\n",
            "BusinessParking_garage                1547\n",
            "BusinessParking_street               37657\n",
            "BusinessParking_validated            31856\n",
            "BusinessParking_lot                  38112\n",
            "BusinessParking_valet                24756\n",
            "HairSpecializesIn_coloring           38568\n",
            "HairSpecializesIn_africanamerican        0\n",
            "HairSpecializesIn_curly                  1\n",
            "HairSpecializesIn_perms                  1\n",
            "HairSpecializesIn_kids                   1\n",
            "HairSpecializesIn_extensions             1\n",
            "HairSpecializesIn_asian                  1\n",
            "HairSpecializesIn_straightperms          1\n",
            "RestaurantsPriceRange2                   0\n",
            "GoodForKids                              0\n",
            "WheelchairAccessible                  3136\n",
            "BikeParking                           5237\n",
            "Alcohol                               2780\n",
            "HasTV                                    0\n",
            "NoiseLevel                             111\n",
            "RestaurantsAttire                        0\n",
            "Music_dj                                 0\n",
            "Music_background_music                  12\n",
            "Music_no_music                          15\n",
            "Music_karaoke                           20\n",
            "Music_live                              19\n",
            "Music_video                             16\n",
            "Music_jukebox                           19\n",
            "Ambience_romantic                       14\n",
            "Ambience_intimate                       62\n",
            "Ambience_classy                         62\n",
            "Ambience_hipster                        62\n",
            "Ambience_divey                          62\n",
            "Ambience_touristy                       33\n",
            "Ambience_trendy                         62\n",
            "Ambience_upscale                        62\n",
            "Ambience_casual                         62\n",
            "RestaurantsGoodForGroups                62\n",
            "Caters                                 568\n",
            "WiFi                                    37\n",
            "RestaurantsReservations                  0\n",
            "RestaurantsTakeOut                     182\n",
            "HappyHour                             1112\n",
            "GoodForDancing                          67\n",
            "RestaurantsTableService               1490\n",
            "OutdoorSeating                         828\n",
            "RestaurantsDelivery                    482\n",
            "BestNights_monday                     1915\n",
            "BestNights_tuesday                      32\n",
            "BestNights_friday                       30\n",
            "BestNights_wednesday                    13\n",
            "BestNights_thursday                     28\n",
            "BestNights_sunday                       25\n",
            "BestNights_saturday                     31\n",
            "GoodForMeal_dessert                     13\n",
            "GoodForMeal_latenight                 1692\n",
            "GoodForMeal_lunch                     1732\n",
            "GoodForMeal_dinner                     685\n",
            "GoodForMeal_breakfast                  761\n",
            "GoodForMeal_brunch                    1566\n",
            "CoatCheck                             1565\n",
            "Smoking                                264\n",
            "DriveThru                                0\n",
            "DogsAllowed                           3659\n",
            "BusinessAcceptsBitcoin                 186\n",
            "Open24Hours                           1380\n",
            "BYOBCorkage                              4\n",
            "BYOB                                     0\n",
            "Corkage                                  0\n",
            "DietaryRestrictions_dairy-free           0\n",
            "DietaryRestrictions_gluten-free         98\n",
            "DietaryRestrictions_vegan               91\n",
            "DietaryRestrictions_kosher              63\n",
            "DietaryRestrictions_halal              107\n",
            "DietaryRestrictions_soy-free           106\n",
            "DietaryRestrictions_vegetarian         105\n",
            "AgesAllowed                             62\n",
            "RestaurantsCounterService                0\n"
          ]
        }
      ],
      "source": [
        "print(false_counts.to_string())"
      ]
    },
    {
      "cell_type": "code",
      "execution_count": null,
      "metadata": {
        "colab": {
          "base_uri": "https://localhost:8080/"
        },
        "id": "MZIbW7u-i5yJ",
        "outputId": "d6344209-15a8-4de9-e365-2187f3ad0c70"
      },
      "outputs": [
        {
          "output_type": "stream",
          "name": "stdout",
          "text": [
            "1178\n",
            "                business_id BusinessAcceptsCreditCards\n",
            "17   0FMKDOU8TJT1x87OKYGDTg                      False\n",
            "253  i-2HewuIRF2ORDT8UfrSUw                       True\n",
            "395  waJ8_8FGJC-j5uIP2im1-A                       True\n",
            "476  SorK_8AgBlGWeHDJkupksg                       True\n",
            "495  RpJ5XykQ2PTqq0SWWtDJaQ                       True\n"
          ]
        }
      ],
      "source": [
        "# Filter the attribute dataset so it contains \"business_id\" and 3 corresponding Business Parking information(Popular Attribute)\n",
        "df_attributes_1 = df_attributes.loc[:, ['business_id', 'BusinessAcceptsCreditCards']]\n",
        "df_attributes_1 = df_attributes_1.loc[~df_attributes_1.isin(['Na']).any(axis=1)]\n",
        "# Create a list of unique business ids from the first dataset\n",
        "business_ids = df_business['business_id'].unique()\n",
        "# Filter the attribute dataset to only include rows with business ids from the business that has counts of review over 50\n",
        "df_attributes_1 = df_attributes_1[df_attributes_1['business_id'].isin(business_ids)]\n",
        "print(len(df_attributes_1))\n",
        "print(df_attributes_1.head())"
      ]
    },
    {
      "cell_type": "code",
      "execution_count": null,
      "metadata": {
        "id": "gTnlfcgOm91v"
      },
      "outputs": [],
      "source": [
        "# Filter the review dataset so it contains \"business_id\" and \"text\"\n",
        "df_review = df_review[['business_id', 'text']]\n",
        "# Filter the review dataset to only include rows with business ids from the business that has counts of review over 50\n",
        "df_review = df_review[df_review['business_id'].isin(business_ids)]\n",
        "# Randomly Sample from the filtered dataset\n",
        "df_review_sampled = df_review.sample(n=300000)\n",
        "# Filter the tip dataset so it contains \"business_id\" and \"text\"\n",
        "df_tip = df_tip[['business_id', 'text']]\n",
        "# Filter the tip dataset to only include rows with business ids from the business that has counts of review over 50\n",
        "df_tip = df_tip[df_tip['business_id'].isin(business_ids)]\n",
        "# Randomly Sample from the filtered dataset\n",
        "df_tip_sampled = df_tip.sample(n=75000)\n",
        "# Concat the review sample and tip sample together\n",
        "df_text = pd.concat([df_review_sampled, df_tip_sampled], axis=0, ignore_index=True)\n",
        "# Merge textual information for each unique business id\n",
        "df_text_concat = df_text.groupby('business_id')['text'].apply(lambda x: ' '.join(x)).reset_index()"
      ]
    },
    {
      "cell_type": "code",
      "execution_count": null,
      "metadata": {
        "colab": {
          "base_uri": "https://localhost:8080/"
        },
        "id": "yJzQqmcDi6WK",
        "outputId": "03370441-23d4-48fd-af47-fbfd407ea08b"
      },
      "outputs": [
        {
          "output_type": "stream",
          "name": "stdout",
          "text": [
            "21990\n",
            "              business_id                                               text\n",
            "0  --9e1ONYQuAa-CB_Rrw7Tw  Bone in ribeye was incredible. Even offered a ...\n",
            "1  --FBCX-N37CMYDfs790Bnw  We went here to watch the World Series game. Y...\n",
            "2  --I7YYLada0tSLkORTHb5Q  we have gone to this restaurant several times ...\n",
            "3  --cZ6Hhc9F7VkKXxHMVZSQ  Yummmmy! Just writing this review is making me...\n",
            "4  --cjBEbXMI2obtaRHNSFrA  I was really excited to hear that a new Piano ...\n"
          ]
        }
      ],
      "source": [
        "print(len(df_text_concat))\n",
        "print(df_text_concat.head())"
      ]
    },
    {
      "cell_type": "code",
      "execution_count": null,
      "metadata": {
        "colab": {
          "base_uri": "https://localhost:8080/"
        },
        "id": "qc5sohck_i_M",
        "outputId": "7a7eaf75-32d3-4c90-e966-e8a669fbab04"
      },
      "outputs": [
        {
          "output_type": "stream",
          "name": "stdout",
          "text": [
            "1176\n",
            "              business_id BusinessAcceptsCreditCards  \\\n",
            "0  0FMKDOU8TJT1x87OKYGDTg                      False   \n",
            "1  i-2HewuIRF2ORDT8UfrSUw                       True   \n",
            "2  waJ8_8FGJC-j5uIP2im1-A                       True   \n",
            "3  SorK_8AgBlGWeHDJkupksg                       True   \n",
            "4  RpJ5XykQ2PTqq0SWWtDJaQ                       True   \n",
            "\n",
            "                                                text  \n",
            "0  I'm not a fan of haircut chains because of the...  \n",
            "1  Eric came and checked out a leaky tub we had. ...  \n",
            "2  Vincent was an honest and hard working owner. ...  \n",
            "3  Jen is amazing.  I've been getting my lashes d...  \n",
            "4  These guys are, in a word....awesome.  I've go...  \n"
          ]
        }
      ],
      "source": [
        "df_combined = df_attributes_1.merge(df_text_concat[['business_id', 'text']], on='business_id', how='left')\n",
        "# Remove rows with missing values\n",
        "df_combined = df_combined.dropna(subset=['text'])\n",
        "print(len(df_combined))\n",
        "print(df_combined.head())"
      ]
    },
    {
      "cell_type": "code",
      "execution_count": null,
      "metadata": {
        "colab": {
          "base_uri": "https://localhost:8080/"
        },
        "id": "V59sXhX8uAa4",
        "outputId": "15aa3188-0bb3-4811-c61c-4b3f728f4864"
      },
      "outputs": [
        {
          "output_type": "stream",
          "name": "stdout",
          "text": [
            "False    715\n",
            "True     461\n",
            "Name: BusinessAcceptsCreditCards, dtype: int64\n"
          ]
        }
      ],
      "source": [
        "# Load the data\n",
        "df = df_combined\n",
        "\n",
        "# Count the number of occurrences of each unique value in the 'BusinessParking_lot' column\n",
        "counts = df['BusinessAcceptsCreditCards'].value_counts()\n",
        "print(counts)"
      ]
    },
    {
      "cell_type": "markdown",
      "metadata": {
        "id": "ZMPEosXQB7tj"
      },
      "source": [
        "# Attribute 1"
      ]
    },
    {
      "cell_type": "code",
      "execution_count": null,
      "metadata": {
        "colab": {
          "base_uri": "https://localhost:8080/",
          "height": 570
        },
        "id": "chZgRrbEqZ5G",
        "outputId": "d414bbea-1292-4657-e0fe-50a361cd7b96"
      },
      "outputs": [
        {
          "output_type": "stream",
          "name": "stdout",
          "text": [
            "Classification Report:\n",
            "              precision    recall  f1-score   support\n",
            "\n",
            "       False       0.91      0.83      0.87       151\n",
            "        True       0.74      0.86      0.80        85\n",
            "\n",
            "    accuracy                           0.84       236\n",
            "   macro avg       0.83      0.85      0.83       236\n",
            "weighted avg       0.85      0.84      0.85       236\n",
            "\n"
          ]
        },
        {
          "output_type": "display_data",
          "data": {
            "text/plain": [
              "<Figure size 400x400 with 2 Axes>"
            ],
            "image/png": "[encoded data removed]"
          },
          "metadata": {}
        }
      ],
      "source": [
        "from sklearn.feature_extraction.text import TfidfVectorizer\n",
        "from sklearn.linear_model import LogisticRegression\n",
        "from sklearn.model_selection import train_test_split\n",
        "from sklearn.metrics import accuracy_score, classification_report, confusion_matrix\n",
        "from imblearn.over_sampling import RandomOverSampler\n",
        "import seaborn as sns\n",
        "import matplotlib.pyplot as plt\n",
        "\n",
        "# Load the data\n",
        "df = df_combined\n",
        "\n",
        "# Preprocess the text data\n",
        "vectorizer = TfidfVectorizer(stop_words='english')\n",
        "X = vectorizer.fit_transform(df['text'])\n",
        "y = df['BusinessAcceptsCreditCards']\n",
        "\n",
        "# Split the data into a training set and a testing set\n",
        "X_train, X_test, y_train, y_test = train_test_split(X, y, test_size=0.2)\n",
        "\n",
        "# Resample the training set\n",
        "ros = RandomOverSampler(sampling_strategy='auto')\n",
        "X_resampled, y_resampled = ros.fit_resample(X_train, y_train)\n",
        "\n",
        "# Train a classifier on the resampled training set\n",
        "clf = LogisticRegression()\n",
        "clf.fit(X_resampled, y_resampled)\n",
        "\n",
        "\n",
        "# Evaluate the performance of the classifier on the testing set\n",
        "y_pred = clf.predict(X_test)\n",
        "report = classification_report(y_test, y_pred)\n",
        "\n",
        "print(f'Classification Report:\\n{report}')\n",
        "\n",
        "# Plot the confusion matrix\n",
        "cm = confusion_matrix(y_test, y_pred)\n",
        "plt.figure(figsize=(4, 4))\n",
        "sns.heatmap(cm, annot=True, cmap='Blues', fmt='g')\n",
        "plt.title('Confusion Matrix (BusinessAcceptsCreditCards)')\n",
        "plt.show()"
      ]
    },
    {
      "cell_type": "markdown",
      "metadata": {
        "id": "ab1FfW8rCErw"
      },
      "source": [
        "# Attribute 2"
      ]
    },
    {
      "cell_type": "code",
      "execution_count": null,
      "metadata": {
        "id": "ZKR8Fb2OCDh6",
        "colab": {
          "base_uri": "https://localhost:8080/"
        },
        "outputId": "149dac35-dbe5-4171-a382-0e0308e6ccbb"
      },
      "outputs": [
        {
          "output_type": "stream",
          "name": "stdout",
          "text": [
            "1400\n",
            "                business_id DogsAllowed\n",
            "3    PfOCPjBrlQAnz__NXj9h_w       False\n",
            "43   1WBkAuQg81kokZIPMpn9Zg       False\n",
            "115  MTH-AcNyWfsBa9sXp04HcQ       False\n",
            "282  VGRn5KgYKMkqdIKtBUzQQA       False\n",
            "538  WMj5Uj04pAqFxLMnJQcQqw       False\n"
          ]
        }
      ],
      "source": [
        "# Filter the attribute dataset so it contains \"business_id\" and 3 corresponding Business Parking information(Popular Attribute)\n",
        "df_attributes_2 = df_attributes.loc[:, ['business_id', 'DogsAllowed']]\n",
        "df_attributes_2 = df_attributes_2.loc[~df_attributes_2.isin(['Na']).any(axis=1)]\n",
        "# Create a list of unique business ids from the first dataset\n",
        "business_ids = df_business['business_id'].unique()\n",
        "# Filter the attribute dataset to only include rows with business ids from the business that has counts of review over 50\n",
        "df_attributes_2 = df_attributes_2[df_attributes_2['business_id'].isin(business_ids)]\n",
        "print(len(df_attributes_2))\n",
        "print(df_attributes_2.head())"
      ]
    },
    {
      "cell_type": "code",
      "source": [
        "df_combined = df_attributes_2.merge(df_text_concat[['business_id', 'text']], on='business_id', how='left')\n",
        "# Remove rows with missing values\n",
        "df_combined = df_combined.dropna(subset=['text'])\n",
        "print(len(df_combined))\n",
        "print(df_combined.head())"
      ],
      "metadata": {
        "colab": {
          "base_uri": "https://localhost:8080/"
        },
        "id": "dK6R1RD3HzHT",
        "outputId": "036b53d2-6d61-44ab-b161-ba1f338440aa"
      },
      "execution_count": null,
      "outputs": [
        {
          "output_type": "stream",
          "name": "stdout",
          "text": [
            "1399\n",
            "              business_id DogsAllowed  \\\n",
            "0  PfOCPjBrlQAnz__NXj9h_w       False   \n",
            "1  1WBkAuQg81kokZIPMpn9Zg       False   \n",
            "2  MTH-AcNyWfsBa9sXp04HcQ       False   \n",
            "3  VGRn5KgYKMkqdIKtBUzQQA       False   \n",
            "4  WMj5Uj04pAqFxLMnJQcQqw       False   \n",
            "\n",
            "                                                text  \n",
            "0  We stopped here for dinner on a Friday night w...  \n",
            "1  $6 for fries is ridiculous. Burger, fries and ...  \n",
            "2  Love, love love their ITALIAN!!! Not a fan of ...  \n",
            "3  The burger was good but everything else was no...  \n",
            "4  They were stingy with their portions and the c...  \n"
          ]
        }
      ]
    },
    {
      "cell_type": "code",
      "source": [
        "# Load the data\n",
        "df = df_combined\n",
        "\n",
        "# Count the number of occurrences of each unique value in the 'BusinessParking_lot' column\n",
        "counts = df['DogsAllowed'].value_counts()\n",
        "print(counts)"
      ],
      "metadata": {
        "colab": {
          "base_uri": "https://localhost:8080/"
        },
        "id": "WyEzD4zEIHgP",
        "outputId": "5aa53c8b-b65e-456b-9f6f-56e3723917ff"
      },
      "execution_count": null,
      "outputs": [
        {
          "output_type": "stream",
          "name": "stdout",
          "text": [
            "False    1163\n",
            "True      236\n",
            "Name: DogsAllowed, dtype: int64\n"
          ]
        }
      ]
    },
    {
      "cell_type": "code",
      "source": [
        "from sklearn.feature_extraction.text import TfidfVectorizer\n",
        "from sklearn.linear_model import LogisticRegression\n",
        "from sklearn.model_selection import train_test_split\n",
        "from sklearn.metrics import accuracy_score, confusion_matrix\n",
        "from imblearn.over_sampling import RandomOverSampler\n",
        "\n",
        "# Load the data\n",
        "df = df_combined\n",
        "\n",
        "# Preprocess the text data\n",
        "vectorizer = TfidfVectorizer(stop_words='english')\n",
        "X = vectorizer.fit_transform(df['text'])\n",
        "y = df['DogsAllowed']\n",
        "\n",
        "# Split the data into a training set and a testing set\n",
        "X_train, X_test, y_train, y_test = train_test_split(X, y, test_size=0.2)\n",
        "\n",
        "# Resample the training set\n",
        "ros = RandomOverSampler(sampling_strategy='auto')\n",
        "X_resampled, y_resampled = ros.fit_resample(X_train, y_train)\n",
        "\n",
        "# Train a classifier on the resampled training set\n",
        "clf = LogisticRegression()\n",
        "clf.fit(X_resampled, y_resampled)\n",
        "\n",
        "# Evaluate the performance of the classifier on the testing set\n",
        "y_pred = clf.predict(X_test)\n",
        "report = classification_report(y_test, y_pred)\n",
        "\n",
        "print(f'Classification Report:\\n{report}')\n",
        "\n",
        "# Plot the confusion matrix\n",
        "cm = confusion_matrix(y_test, y_pred)\n",
        "plt.figure(figsize=(4, 4))\n",
        "sns.heatmap(cm, annot=True, cmap='Blues', fmt='g')\n",
        "plt.title('Confusion Matrix (DogsAllowed)')\n",
        "plt.show()"
      ],
      "metadata": {
        "colab": {
          "base_uri": "https://localhost:8080/",
          "height": 570
        },
        "id": "aYGLtsSYKQfF",
        "outputId": "24f90d10-0c12-483f-e8ef-626cebb32338"
      },
      "execution_count": null,
      "outputs": [
        {
          "output_type": "stream",
          "name": "stdout",
          "text": [
            "Classification Report:\n",
            "              precision    recall  f1-score   support\n",
            "\n",
            "       False       0.97      1.00      0.98       234\n",
            "        True       1.00      0.83      0.90        46\n",
            "\n",
            "    accuracy                           0.97       280\n",
            "   macro avg       0.98      0.91      0.94       280\n",
            "weighted avg       0.97      0.97      0.97       280\n",
            "\n"
          ]
        },
        {
          "output_type": "display_data",
          "data": {
            "text/plain": [
              "<Figure size 400x400 with 2 Axes>"
            ],
            "image/png": "[encoded data removed]"
          },
          "metadata": {}
        }
      ]
    },
    {
      "cell_type": "markdown",
      "metadata": {
        "id": "uNddf5TWCIFq"
      },
      "source": [
        "# Attribute 3"
      ]
    },
    {
      "cell_type": "code",
      "execution_count": null,
      "metadata": {
        "id": "07C5yPAS5ZPL",
        "colab": {
          "base_uri": "https://localhost:8080/",
          "height": 945
        },
        "outputId": "0041d6a5-f823-4493-d8b9-a3653df9fb00"
      },
      "outputs": [
        {
          "output_type": "stream",
          "name": "stdout",
          "text": [
            "1251\n",
            "                business_id GoodForMeal_dinner\n",
            "92   VdlPZg2NAu8t8GkdbPLecg              False\n",
            "169  kyXEnWKQGWSThY6EcjORuw               True\n",
            "242  dPxZI9lrKTl5dvFfnb1_Ig               True\n",
            "294  _eKvk2GoGKb3CoYolHgRlg               True\n",
            "701  PgJgpW4TKQ8IoALH2Yq-zA              False\n",
            "1251\n",
            "              business_id GoodForMeal_dinner  \\\n",
            "0  VdlPZg2NAu8t8GkdbPLecg              False   \n",
            "1  kyXEnWKQGWSThY6EcjORuw               True   \n",
            "2  dPxZI9lrKTl5dvFfnb1_Ig               True   \n",
            "3  _eKvk2GoGKb3CoYolHgRlg               True   \n",
            "4  PgJgpW4TKQ8IoALH2Yq-zA              False   \n",
            "\n",
            "                                                text  \n",
            "0  Wow. How disappointed am I. I placed a takeout...  \n",
            "1  i used to eat the gyros here as a student and ...  \n",
            "2  Ate here the other night with family and it wa...  \n",
            "3  Excelente comida griega. Atención personalizad...  \n",
            "4  Came here for dinner.\\n\\nCrab legs - pretty go...  \n",
            "Classification Report:\n",
            "              precision    recall  f1-score   support\n",
            "\n",
            "       False       0.71      0.71      0.71        75\n",
            "        True       0.88      0.88      0.88       176\n",
            "\n",
            "    accuracy                           0.82       251\n",
            "   macro avg       0.79      0.79      0.79       251\n",
            "weighted avg       0.82      0.82      0.82       251\n",
            "\n"
          ]
        },
        {
          "output_type": "display_data",
          "data": {
            "text/plain": [
              "<Figure size 400x400 with 2 Axes>"
            ],
            "image/png": "[encoded data removed]"
          },
          "metadata": {}
        }
      ],
      "source": [
        "# Filter the attribute dataset so it contains \"business_id\" and 3 corresponding Business Parking information(Popular Attribute)\n",
        "df_attributes_3 = df_attributes.loc[:, ['business_id', 'GoodForMeal_dinner']]\n",
        "df_attributes_3 = df_attributes_3.loc[~df_attributes_3.isin(['Na']).any(axis=1)]\n",
        "# Create a list of unique business ids from the first dataset\n",
        "business_ids = df_business['business_id'].unique()\n",
        "# Filter the attribute dataset to only include rows with business ids from the business that has counts of review over 50\n",
        "df_attributes_3 = df_attributes_3[df_attributes_3['business_id'].isin(business_ids)]\n",
        "print(len(df_attributes_3))\n",
        "print(df_attributes_3.head())\n",
        "\n",
        "df_combined = df_attributes_3.merge(df_text_concat[['business_id', 'text']], on='business_id', how='left')\n",
        "# Remove rows with missing values\n",
        "df_combined = df_combined.dropna(subset=['text'])\n",
        "print(len(df_combined))\n",
        "print(df_combined.head())\n",
        "\n",
        "# Load the data\n",
        "df = df_combined\n",
        "\n",
        "# Preprocess the text data\n",
        "vectorizer = TfidfVectorizer(stop_words='english')\n",
        "X = vectorizer.fit_transform(df['text'])\n",
        "y = df['GoodForMeal_dinner']\n",
        "\n",
        "# Split the data into a training set and a testing set\n",
        "X_train, X_test, y_train, y_test = train_test_split(X, y, test_size=0.2)\n",
        "\n",
        "# Resample the training set\n",
        "ros = RandomOverSampler(sampling_strategy='auto')\n",
        "X_resampled, y_resampled = ros.fit_resample(X_train, y_train)\n",
        "\n",
        "# Train a classifier on the resampled training set\n",
        "clf = LogisticRegression()\n",
        "clf.fit(X_resampled, y_resampled)\n",
        "\n",
        "# Evaluate the performance of the classifier on the testing set\n",
        "y_pred = clf.predict(X_test)\n",
        "report = classification_report(y_test, y_pred)\n",
        "\n",
        "print(f'Classification Report:\\n{report}')\n",
        "\n",
        "# Plot the confusion matrix\n",
        "cm = confusion_matrix(y_test, y_pred)\n",
        "plt.figure(figsize=(4, 4))\n",
        "sns.heatmap(cm, annot=True, cmap='Blues', fmt='g')\n",
        "plt.title('Confusion Matrix (GoodForMeal_dinner)')\n",
        "plt.show()\n"
      ]
    },
    {
      "cell_type": "code",
      "execution_count": null,
      "metadata": {
        "id": "mdSdy72bM123"
      },
      "outputs": [],
      "source": [
        "\n"
      ]
    },
    {
      "cell_type": "code",
      "execution_count": null,
      "metadata": {
        "id": "dcx22DrRQZK5"
      },
      "outputs": [],
      "source": [
        "\n"
      ]
    },
    {
      "cell_type": "markdown",
      "metadata": {
        "id": "GyQ7V9FKsBf7"
      },
      "source": [
        "# Task 2\n"
      ]
    },
    {
      "cell_type": "code",
      "execution_count": null,
      "metadata": {
        "colab": {
          "base_uri": "https://localhost:8080/"
        },
        "id": "nUXeSL7PKW-1",
        "outputId": "035bc336-1913-4904-946e-be0e04eafd1e"
      },
      "outputs": [
        {
          "output_type": "stream",
          "name": "stderr",
          "text": [
            "[nltk_data] Downloading package punkt to /root/nltk_data...\n",
            "[nltk_data]   Package punkt is already up-to-date!\n",
            "[nltk_data] Downloading package stopwords to /root/nltk_data...\n",
            "[nltk_data]   Package stopwords is already up-to-date!\n",
            "[nltk_data] Downloading package wordnet to /root/nltk_data...\n",
            "[nltk_data]   Package wordnet is already up-to-date!\n"
          ]
        }
      ],
      "source": [
        "import pandas as pd\n",
        "from textblob import TextBlob\n",
        "import string\n",
        "import nltk\n",
        "import matplotlib as plt\n",
        "nltk.download('punkt')\n",
        "nltk.download('stopwords')\n",
        "nltk.download('wordnet')\n",
        "from nltk.corpus import stopwords\n",
        "from nltk.stem import WordNetLemmatizer\n",
        "from nltk.stem.porter import PorterStemmer\n",
        "from textblob import TextBlob\n",
        "import string\n",
        "import nltk\n",
        "from nltk.corpus import stopwords\n",
        "from nltk.stem import WordNetLemmatizer\n",
        "from nltk.stem.porter import PorterStemmer\n",
        "from textblob import TextBlob\n",
        "from sklearn.feature_extraction.text import CountVectorizer\n",
        "from sklearn.ensemble import RandomForestClassifier\n",
        "from sklearn.metrics import accuracy_score, precision_score, recall_score, f1_score, confusion_matrix\n",
        "from sklearn.model_selection import train_test_split\n",
        "import pandas as pd\n",
        "import nltk\n",
        "from nltk.corpus import stopwords\n",
        "from nltk.stem import WordNetLemmatizer\n",
        "from sklearn.neighbors import KNeighborsClassifier"
      ]
    },
    {
      "cell_type": "code",
      "execution_count": null,
      "metadata": {
        "colab": {
          "base_uri": "https://localhost:8080/"
        },
        "id": "pUqjLawmsgTV",
        "outputId": "83021d2d-25ad-4a07-d8cd-a230342aea8f"
      },
      "outputs": [
        {
          "output_type": "stream",
          "name": "stdout",
          "text": [
            "5    42719\n",
            "4    23897\n",
            "1    13267\n",
            "3    11808\n",
            "2     8309\n",
            "Name: stars, dtype: int64\n"
          ]
        }
      ],
      "source": [
        "import pandas as pd\n",
        "\n",
        "path = '/content/drive/MyDrive/DS 3010/yelp_r.csv'\n",
        "df = pd.read_csv(path, nrows=100000)\n",
        "\n",
        "print(df['stars'].value_counts())\n"
      ]
    },
    {
      "cell_type": "code",
      "source": [
        "# Group the data by star rating and randomly sample 2000 from each group\n",
        "df_balanced = df.groupby('stars').apply(lambda x: x.sample(n=3000, random_state=42))\n",
        "\n",
        "# Print the count of unique items with a specific column called 'stars'\n",
        "print(df_balanced['stars'].value_counts())\n"
      ],
      "metadata": {
        "colab": {
          "base_uri": "https://localhost:8080/"
        },
        "id": "MF7juLvsHJE7",
        "outputId": "f381ef03-806c-4c3f-fb5b-32d0a9833ddd"
      },
      "execution_count": null,
      "outputs": [
        {
          "output_type": "stream",
          "name": "stdout",
          "text": [
            "1    3000\n",
            "2    3000\n",
            "3    3000\n",
            "4    3000\n",
            "5    3000\n",
            "Name: stars, dtype: int64\n"
          ]
        }
      ]
    },
    {
      "cell_type": "markdown",
      "metadata": {
        "id": "mJGXAeGICUcC"
      },
      "source": [
        "# Case A Method"
      ]
    },
    {
      "cell_type": "code",
      "execution_count": null,
      "metadata": {
        "id": "PDf82nA71DF-"
      },
      "outputs": [],
      "source": [
        "def preprocess_text(text):\n",
        "\n",
        "    # Convert to lowercase\n",
        "    text = text.lower()\n",
        "\n",
        "    # Tokenize the text\n",
        "    tokens = nltk.word_tokenize(text)\n",
        "\n",
        "    # Remove stopwords\n",
        "    stopwords_list = stopwords.words('english')\n",
        "    stopwords_list += ['restaurant', 'restaurants'] # add additional stopwords\n",
        "    tokens = [token for token in tokens if token not in stopwords_list]\n",
        "\n",
        "    # Lemmatization\n",
        "    lemmatizer = WordNetLemmatizer()\n",
        "    tokens = [lemmatizer.lemmatize(token) for token in tokens]\n",
        "\n",
        "    # Handling negations\n",
        "    negations = ['not', 'no', 'never']\n",
        "    for i in range(len(tokens)):\n",
        "        if tokens[i] in negations and i < len(tokens) - 1:\n",
        "            tokens[i+1] = 'not_' + tokens[i+1]\n",
        "\n",
        "    # Join the tokens back into a string\n",
        "    text = ' '.join(tokens)\n",
        "\n",
        "    return text\n",
        "\n",
        "\n",
        "# Apply the preprocess_text function to the \"text\" column of the DataFrame\n",
        "df_balanced['processed_text'] = df_balanced['text'].apply(preprocess_text)\n"
      ]
    },
    {
      "cell_type": "markdown",
      "metadata": {
        "id": "a-KOcAyrChZF"
      },
      "source": [
        "# Evaluation Case A"
      ]
    },
    {
      "cell_type": "markdown",
      "metadata": {
        "id": "KgsUWMKcCxEh"
      },
      "source": [
        "# Random Forest"
      ]
    },
    {
      "cell_type": "code",
      "execution_count": null,
      "metadata": {
        "colab": {
          "base_uri": "https://localhost:8080/",
          "height": 676
        },
        "id": "xEhVbprrCk5t",
        "outputId": "06fcae3a-3e90-495d-c921-e4f1c05d215b"
      },
      "outputs": [
        {
          "output_type": "stream",
          "name": "stdout",
          "text": [
            "Accuracy: 0.486\n",
            "Precision: 0.4728187115337259\n",
            "Recall: 0.48755736561191776\n",
            "F1 score: 0.47150313246746023\n",
            "Confusion matrix:\n",
            " [[460  71  28  12  28]\n",
            " [213 201 137  43  42]\n",
            " [ 64  86 212 163  49]\n",
            " [ 42  39 128 188 202]\n",
            " [ 44  13  31 107 397]]\n"
          ]
        },
        {
          "output_type": "error",
          "ename": "ValueError",
          "evalue": "ignored",
          "traceback": [
            "\u001b[0;31m---------------------------------------------------------------------------\u001b[0m",
            "\u001b[0;31mValueError\u001b[0m                                Traceback (most recent call last)",
            "\u001b[0;32m<ipython-input-58-31d841d99def>\u001b[0m in \u001b[0;36m<cell line: 50>\u001b[0;34m()\u001b[0m\n\u001b[1;32m     48\u001b[0m \u001b[0;34m\u001b[0m\u001b[0m\n\u001b[1;32m     49\u001b[0m \u001b[0;31m# Evaluate the model using the cost-sensitive F1 score\u001b[0m\u001b[0;34m\u001b[0m\u001b[0;34m\u001b[0m\u001b[0m\n\u001b[0;32m---> 50\u001b[0;31m \u001b[0my_pred\u001b[0m \u001b[0;34m=\u001b[0m \u001b[0mrf\u001b[0m\u001b[0;34m.\u001b[0m\u001b[0mpredict\u001b[0m\u001b[0;34m(\u001b[0m\u001b[0mX_test\u001b[0m\u001b[0;34m)\u001b[0m\u001b[0;34m\u001b[0m\u001b[0;34m\u001b[0m\u001b[0m\n\u001b[0m\u001b[1;32m     51\u001b[0m \u001b[0mf1_cost_sensitive\u001b[0m \u001b[0;34m=\u001b[0m \u001b[0mcost_sensitive_f1_score\u001b[0m\u001b[0;34m(\u001b[0m\u001b[0my_test\u001b[0m\u001b[0;34m,\u001b[0m \u001b[0my_pred\u001b[0m\u001b[0;34m)\u001b[0m\u001b[0;34m\u001b[0m\u001b[0;34m\u001b[0m\u001b[0m\n\u001b[1;32m     52\u001b[0m \u001b[0mprint\u001b[0m\u001b[0;34m(\u001b[0m\u001b[0;34m\"Cost-sensitive F1 score:\"\u001b[0m\u001b[0;34m,\u001b[0m \u001b[0mf1_cost_sensitive\u001b[0m\u001b[0;34m)\u001b[0m\u001b[0;34m\u001b[0m\u001b[0;34m\u001b[0m\u001b[0m\n",
            "\u001b[0;32m/usr/local/lib/python3.10/dist-packages/sklearn/ensemble/_forest.py\u001b[0m in \u001b[0;36mpredict\u001b[0;34m(self, X)\u001b[0m\n\u001b[1;32m    818\u001b[0m             \u001b[0mThe\u001b[0m \u001b[0mpredicted\u001b[0m \u001b[0mclasses\u001b[0m\u001b[0;34m.\u001b[0m\u001b[0;34m\u001b[0m\u001b[0;34m\u001b[0m\u001b[0m\n\u001b[1;32m    819\u001b[0m         \"\"\"\n\u001b[0;32m--> 820\u001b[0;31m         \u001b[0mproba\u001b[0m \u001b[0;34m=\u001b[0m \u001b[0mself\u001b[0m\u001b[0;34m.\u001b[0m\u001b[0mpredict_proba\u001b[0m\u001b[0;34m(\u001b[0m\u001b[0mX\u001b[0m\u001b[0;34m)\u001b[0m\u001b[0;34m\u001b[0m\u001b[0;34m\u001b[0m\u001b[0m\n\u001b[0m\u001b[1;32m    821\u001b[0m \u001b[0;34m\u001b[0m\u001b[0m\n\u001b[1;32m    822\u001b[0m         \u001b[0;32mif\u001b[0m \u001b[0mself\u001b[0m\u001b[0;34m.\u001b[0m\u001b[0mn_outputs_\u001b[0m \u001b[0;34m==\u001b[0m \u001b[0;36m1\u001b[0m\u001b[0;34m:\u001b[0m\u001b[0;34m\u001b[0m\u001b[0;34m\u001b[0m\u001b[0m\n",
            "\u001b[0;32m/usr/local/lib/python3.10/dist-packages/sklearn/ensemble/_forest.py\u001b[0m in \u001b[0;36mpredict_proba\u001b[0;34m(self, X)\u001b[0m\n\u001b[1;32m    860\u001b[0m         \u001b[0mcheck_is_fitted\u001b[0m\u001b[0;34m(\u001b[0m\u001b[0mself\u001b[0m\u001b[0;34m)\u001b[0m\u001b[0;34m\u001b[0m\u001b[0;34m\u001b[0m\u001b[0m\n\u001b[1;32m    861\u001b[0m         \u001b[0;31m# Check data\u001b[0m\u001b[0;34m\u001b[0m\u001b[0;34m\u001b[0m\u001b[0m\n\u001b[0;32m--> 862\u001b[0;31m         \u001b[0mX\u001b[0m \u001b[0;34m=\u001b[0m \u001b[0mself\u001b[0m\u001b[0;34m.\u001b[0m\u001b[0m_validate_X_predict\u001b[0m\u001b[0;34m(\u001b[0m\u001b[0mX\u001b[0m\u001b[0;34m)\u001b[0m\u001b[0;34m\u001b[0m\u001b[0;34m\u001b[0m\u001b[0m\n\u001b[0m\u001b[1;32m    863\u001b[0m \u001b[0;34m\u001b[0m\u001b[0m\n\u001b[1;32m    864\u001b[0m         \u001b[0;31m# Assign chunk of trees to jobs\u001b[0m\u001b[0;34m\u001b[0m\u001b[0;34m\u001b[0m\u001b[0m\n",
            "\u001b[0;32m/usr/local/lib/python3.10/dist-packages/sklearn/ensemble/_forest.py\u001b[0m in \u001b[0;36m_validate_X_predict\u001b[0;34m(self, X)\u001b[0m\n\u001b[1;32m    600\u001b[0m         Validate X whenever one tries to predict, apply, predict_proba.\"\"\"\n\u001b[1;32m    601\u001b[0m         \u001b[0mcheck_is_fitted\u001b[0m\u001b[0;34m(\u001b[0m\u001b[0mself\u001b[0m\u001b[0;34m)\u001b[0m\u001b[0;34m\u001b[0m\u001b[0;34m\u001b[0m\u001b[0m\n\u001b[0;32m--> 602\u001b[0;31m         \u001b[0mX\u001b[0m \u001b[0;34m=\u001b[0m \u001b[0mself\u001b[0m\u001b[0;34m.\u001b[0m\u001b[0m_validate_data\u001b[0m\u001b[0;34m(\u001b[0m\u001b[0mX\u001b[0m\u001b[0;34m,\u001b[0m \u001b[0mdtype\u001b[0m\u001b[0;34m=\u001b[0m\u001b[0mDTYPE\u001b[0m\u001b[0;34m,\u001b[0m \u001b[0maccept_sparse\u001b[0m\u001b[0;34m=\u001b[0m\u001b[0;34m\"csr\"\u001b[0m\u001b[0;34m,\u001b[0m \u001b[0mreset\u001b[0m\u001b[0;34m=\u001b[0m\u001b[0;32mFalse\u001b[0m\u001b[0;34m)\u001b[0m\u001b[0;34m\u001b[0m\u001b[0;34m\u001b[0m\u001b[0m\n\u001b[0m\u001b[1;32m    603\u001b[0m         \u001b[0;32mif\u001b[0m \u001b[0missparse\u001b[0m\u001b[0;34m(\u001b[0m\u001b[0mX\u001b[0m\u001b[0;34m)\u001b[0m \u001b[0;32mand\u001b[0m \u001b[0;34m(\u001b[0m\u001b[0mX\u001b[0m\u001b[0;34m.\u001b[0m\u001b[0mindices\u001b[0m\u001b[0;34m.\u001b[0m\u001b[0mdtype\u001b[0m \u001b[0;34m!=\u001b[0m \u001b[0mnp\u001b[0m\u001b[0;34m.\u001b[0m\u001b[0mintc\u001b[0m \u001b[0;32mor\u001b[0m \u001b[0mX\u001b[0m\u001b[0;34m.\u001b[0m\u001b[0mindptr\u001b[0m\u001b[0;34m.\u001b[0m\u001b[0mdtype\u001b[0m \u001b[0;34m!=\u001b[0m \u001b[0mnp\u001b[0m\u001b[0;34m.\u001b[0m\u001b[0mintc\u001b[0m\u001b[0;34m)\u001b[0m\u001b[0;34m:\u001b[0m\u001b[0;34m\u001b[0m\u001b[0;34m\u001b[0m\u001b[0m\n\u001b[1;32m    604\u001b[0m             \u001b[0;32mraise\u001b[0m \u001b[0mValueError\u001b[0m\u001b[0;34m(\u001b[0m\u001b[0;34m\"No support for np.int64 index based sparse matrices\"\u001b[0m\u001b[0;34m)\u001b[0m\u001b[0;34m\u001b[0m\u001b[0;34m\u001b[0m\u001b[0m\n",
            "\u001b[0;32m/usr/local/lib/python3.10/dist-packages/sklearn/base.py\u001b[0m in \u001b[0;36m_validate_data\u001b[0;34m(self, X, y, reset, validate_separately, **check_params)\u001b[0m\n\u001b[1;32m    563\u001b[0m             \u001b[0;32mraise\u001b[0m \u001b[0mValueError\u001b[0m\u001b[0;34m(\u001b[0m\u001b[0;34m\"Validation should be done on X, y or both.\"\u001b[0m\u001b[0;34m)\u001b[0m\u001b[0;34m\u001b[0m\u001b[0;34m\u001b[0m\u001b[0m\n\u001b[1;32m    564\u001b[0m         \u001b[0;32melif\u001b[0m \u001b[0;32mnot\u001b[0m \u001b[0mno_val_X\u001b[0m \u001b[0;32mand\u001b[0m \u001b[0mno_val_y\u001b[0m\u001b[0;34m:\u001b[0m\u001b[0;34m\u001b[0m\u001b[0;34m\u001b[0m\u001b[0m\n\u001b[0;32m--> 565\u001b[0;31m             \u001b[0mX\u001b[0m \u001b[0;34m=\u001b[0m \u001b[0mcheck_array\u001b[0m\u001b[0;34m(\u001b[0m\u001b[0mX\u001b[0m\u001b[0;34m,\u001b[0m \u001b[0minput_name\u001b[0m\u001b[0;34m=\u001b[0m\u001b[0;34m\"X\"\u001b[0m\u001b[0;34m,\u001b[0m \u001b[0;34m**\u001b[0m\u001b[0mcheck_params\u001b[0m\u001b[0;34m)\u001b[0m\u001b[0;34m\u001b[0m\u001b[0;34m\u001b[0m\u001b[0m\n\u001b[0m\u001b[1;32m    566\u001b[0m             \u001b[0mout\u001b[0m \u001b[0;34m=\u001b[0m \u001b[0mX\u001b[0m\u001b[0;34m\u001b[0m\u001b[0;34m\u001b[0m\u001b[0m\n\u001b[1;32m    567\u001b[0m         \u001b[0;32melif\u001b[0m \u001b[0mno_val_X\u001b[0m \u001b[0;32mand\u001b[0m \u001b[0;32mnot\u001b[0m \u001b[0mno_val_y\u001b[0m\u001b[0;34m:\u001b[0m\u001b[0;34m\u001b[0m\u001b[0;34m\u001b[0m\u001b[0m\n",
            "\u001b[0;32m/usr/local/lib/python3.10/dist-packages/sklearn/utils/validation.py\u001b[0m in \u001b[0;36mcheck_array\u001b[0;34m(array, accept_sparse, accept_large_sparse, dtype, order, copy, force_all_finite, ensure_2d, allow_nd, ensure_min_samples, ensure_min_features, estimator, input_name)\u001b[0m\n\u001b[1;32m    877\u001b[0m                     \u001b[0marray\u001b[0m \u001b[0;34m=\u001b[0m \u001b[0mxp\u001b[0m\u001b[0;34m.\u001b[0m\u001b[0mastype\u001b[0m\u001b[0;34m(\u001b[0m\u001b[0marray\u001b[0m\u001b[0;34m,\u001b[0m \u001b[0mdtype\u001b[0m\u001b[0;34m,\u001b[0m \u001b[0mcopy\u001b[0m\u001b[0;34m=\u001b[0m\u001b[0;32mFalse\u001b[0m\u001b[0;34m)\u001b[0m\u001b[0;34m\u001b[0m\u001b[0;34m\u001b[0m\u001b[0m\n\u001b[1;32m    878\u001b[0m                 \u001b[0;32melse\u001b[0m\u001b[0;34m:\u001b[0m\u001b[0;34m\u001b[0m\u001b[0;34m\u001b[0m\u001b[0m\n\u001b[0;32m--> 879\u001b[0;31m                     \u001b[0marray\u001b[0m \u001b[0;34m=\u001b[0m \u001b[0m_asarray_with_order\u001b[0m\u001b[0;34m(\u001b[0m\u001b[0marray\u001b[0m\u001b[0;34m,\u001b[0m \u001b[0morder\u001b[0m\u001b[0;34m=\u001b[0m\u001b[0morder\u001b[0m\u001b[0;34m,\u001b[0m \u001b[0mdtype\u001b[0m\u001b[0;34m=\u001b[0m\u001b[0mdtype\u001b[0m\u001b[0;34m,\u001b[0m \u001b[0mxp\u001b[0m\u001b[0;34m=\u001b[0m\u001b[0mxp\u001b[0m\u001b[0;34m)\u001b[0m\u001b[0;34m\u001b[0m\u001b[0;34m\u001b[0m\u001b[0m\n\u001b[0m\u001b[1;32m    880\u001b[0m             \u001b[0;32mexcept\u001b[0m \u001b[0mComplexWarning\u001b[0m \u001b[0;32mas\u001b[0m \u001b[0mcomplex_warning\u001b[0m\u001b[0;34m:\u001b[0m\u001b[0;34m\u001b[0m\u001b[0;34m\u001b[0m\u001b[0m\n\u001b[1;32m    881\u001b[0m                 raise ValueError(\n",
            "\u001b[0;32m/usr/local/lib/python3.10/dist-packages/sklearn/utils/_array_api.py\u001b[0m in \u001b[0;36m_asarray_with_order\u001b[0;34m(array, dtype, order, copy, xp)\u001b[0m\n\u001b[1;32m    183\u001b[0m     \u001b[0;32mif\u001b[0m \u001b[0mxp\u001b[0m\u001b[0;34m.\u001b[0m\u001b[0m__name__\u001b[0m \u001b[0;32min\u001b[0m \u001b[0;34m{\u001b[0m\u001b[0;34m\"numpy\"\u001b[0m\u001b[0;34m,\u001b[0m \u001b[0;34m\"numpy.array_api\"\u001b[0m\u001b[0;34m}\u001b[0m\u001b[0;34m:\u001b[0m\u001b[0;34m\u001b[0m\u001b[0;34m\u001b[0m\u001b[0m\n\u001b[1;32m    184\u001b[0m         \u001b[0;31m# Use NumPy API to support order\u001b[0m\u001b[0;34m\u001b[0m\u001b[0;34m\u001b[0m\u001b[0m\n\u001b[0;32m--> 185\u001b[0;31m         \u001b[0marray\u001b[0m \u001b[0;34m=\u001b[0m \u001b[0mnumpy\u001b[0m\u001b[0;34m.\u001b[0m\u001b[0masarray\u001b[0m\u001b[0;34m(\u001b[0m\u001b[0marray\u001b[0m\u001b[0;34m,\u001b[0m \u001b[0morder\u001b[0m\u001b[0;34m=\u001b[0m\u001b[0morder\u001b[0m\u001b[0;34m,\u001b[0m \u001b[0mdtype\u001b[0m\u001b[0;34m=\u001b[0m\u001b[0mdtype\u001b[0m\u001b[0;34m)\u001b[0m\u001b[0;34m\u001b[0m\u001b[0;34m\u001b[0m\u001b[0m\n\u001b[0m\u001b[1;32m    186\u001b[0m         \u001b[0;32mreturn\u001b[0m \u001b[0mxp\u001b[0m\u001b[0;34m.\u001b[0m\u001b[0masarray\u001b[0m\u001b[0;34m(\u001b[0m\u001b[0marray\u001b[0m\u001b[0;34m,\u001b[0m \u001b[0mcopy\u001b[0m\u001b[0;34m=\u001b[0m\u001b[0mcopy\u001b[0m\u001b[0;34m)\u001b[0m\u001b[0;34m\u001b[0m\u001b[0;34m\u001b[0m\u001b[0m\n\u001b[1;32m    187\u001b[0m     \u001b[0;32melse\u001b[0m\u001b[0;34m:\u001b[0m\u001b[0;34m\u001b[0m\u001b[0;34m\u001b[0m\u001b[0m\n",
            "\u001b[0;31mValueError\u001b[0m: could not convert string to float: \"3 time , feel confident giving review . first time , husband went alone . nice looking , big , casual enough felt comfortable bringing 6 3 year old kid back next two visit . service good first two time went , little slow third ( friday night quite bit busier ) . often gauge level service frequently server refill water ( drink lot ) , n't run . also appreciated kid menu girl could color , provided crayon . overall , really liked place , back ! rundown 've : drink : red sangria red sangria interesting good way . tasted like pear puree ( could tell texture , really taste ) , bit soda water , sweet . believe server said made malbec . flavor really came together nicely . white sangria white sangria notably sweeter red , similar pear-ness red . neglected ask varietal wine went one . definitely preferred red . mojito ca n't recall exact name mojito , n't see drink menu online , cherry flavoring . love good mojito , . mint n't mottled , drink served lime good , lime flavor drink faint , question lime presence within drink . squeezed lime drink , tasted bit better , overall , big disappointment . appetizer : pesto cheese bread pesto cheese bread ok , nothing special . looked like used ( ciabatta ? ) bread use sandwich make , two piece noticeably thicker two . would really like see bread bit thinner toasted little crispy . husband really liked , think hard make ingredient go taste bad . chipotle cheese bread similar construc..."
          ]
        }
      ],
      "source": [
        "# Extract the features and target variable\n",
        "X = df_balanced['processed_text'].to_numpy()\n",
        "y = df_balanced['stars'].to_numpy()\n",
        "\n",
        "# Split the data into train and test sets\n",
        "X_train, X_test, y_train, y_test = train_test_split(X, y, test_size=0.2, random_state=42)\n",
        "\n",
        "# Vectorize the data\n",
        "vectorizer = CountVectorizer()\n",
        "X_train_vec = vectorizer.fit_transform(X_train)\n",
        "X_test_vec = vectorizer.transform(X_test)\n",
        "\n",
        "# Train a random forest model\n",
        "rf = RandomForestClassifier(n_estimators=100, random_state=42)\n",
        "rf.fit(X_train_vec, y_train)\n",
        "\n",
        "# Evaluate the model\n",
        "y_pred = rf.predict(X_test_vec)\n",
        "accuracy = accuracy_score(y_test, y_pred)\n",
        "precision = precision_score(y_test, y_pred, average='macro')\n",
        "recall = recall_score(y_test, y_pred, average='macro')\n",
        "f1 = f1_score(y_test, y_pred, average='macro')\n",
        "conf_matrix = confusion_matrix(y_test, y_pred)\n",
        "\n",
        "# Print the evaluation metrics and confusion matrix\n",
        "print(\"Accuracy:\", accuracy)\n",
        "print(\"Precision:\", precision)\n",
        "print(\"Recall:\", recall)\n",
        "print(\"F1 score:\", f1)\n",
        "print(\"Confusion matrix:\\n\", conf_matrix)\n"
      ]
    },
    {
      "cell_type": "code",
      "source": [
        "import matplotlib.pyplot as plt\n",
        "import seaborn as sns\n",
        "\n",
        "# Plot the evaluation metrics\n",
        "metrics = ['Accuracy', 'Precision', 'Recall', 'F1 score']\n",
        "scores = [accuracy, precision, recall, f1]\n",
        "\n",
        "plt.figure(figsize=(8, 6))\n",
        "plt.bar(metrics, scores)\n",
        "plt.title('Evaluation Metrics (Random Forest)')\n",
        "plt.xlabel('Metric')\n",
        "plt.ylabel('Score')\n",
        "plt.ylim(0, 0.7)\n",
        "plt.show()\n",
        "\n",
        "# Plot the confusion matrix\n",
        "plt.figure(figsize=(8, 6))\n",
        "sns.heatmap(conf_matrix, annot=True, cmap='Blues', fmt='g')\n",
        "plt.title('Confusion Matrix (Random Forest)')\n",
        "plt.show()\n"
      ],
      "metadata": {
        "colab": {
          "base_uri": "https://localhost:8080/",
          "height": 1000
        },
        "id": "o6JDAZ1OtYg8",
        "outputId": "df44cd7a-d3de-434a-abc9-aa9e919a8f0b"
      },
      "execution_count": null,
      "outputs": [
        {
          "output_type": "display_data",
          "data": {
            "text/plain": [
              "<Figure size 800x600 with 1 Axes>"
            ],
            "image/png": "[encoded data removed]"
          },
          "metadata": {}
        },
        {
          "output_type": "display_data",
          "data": {
            "text/plain": [
              "<Figure size 800x600 with 2 Axes>"
            ],
            "image/png": "[encoded data removed]"
          },
          "metadata": {}
        }
      ]
    },
    {
      "cell_type": "markdown",
      "metadata": {
        "id": "WPASzz1CC23t"
      },
      "source": [
        "# KNN"
      ]
    },
    {
      "cell_type": "code",
      "execution_count": null,
      "metadata": {
        "colab": {
          "base_uri": "https://localhost:8080/"
        },
        "id": "hWSS5fHIC7Sf",
        "outputId": "1bb210e8-294e-4e5f-a36d-5975ad56164a"
      },
      "outputs": [
        {
          "output_type": "stream",
          "name": "stdout",
          "text": [
            "K-Nearest Neighbors Model\n",
            "Accuracy: 0.326\n",
            "Precision: 0.3212038243696063\n",
            "Recall: 0.3267069416594396\n",
            "F1 score: 0.3187174163573155\n",
            "Confusion matrix:\n",
            " [[316  97  67  57  62]\n",
            " [175 129 141 129  62]\n",
            " [111  93 133 171  66]\n",
            " [ 98  82  99 214 106]\n",
            " [142  61  61 142 186]]\n"
          ]
        }
      ],
      "source": [
        "# Train a KNN model\n",
        "knn = KNeighborsClassifier(n_neighbors=5)\n",
        "knn.fit(X_train_vec, y_train)\n",
        "\n",
        "# Evaluate the model\n",
        "y_pred = knn.predict(X_test_vec)\n",
        "accuracy = accuracy_score(y_test, y_pred)\n",
        "precision = precision_score(y_test, y_pred, average='macro')\n",
        "recall = recall_score(y_test, y_pred, average='macro')\n",
        "f1 = f1_score(y_test, y_pred, average='macro')\n",
        "conf_matrix = confusion_matrix(y_test, y_pred)\n",
        "\n",
        "# Print the evaluation metrics and confusion matrix\n",
        "print(\"K-Nearest Neighbors Model\")\n",
        "print(\"Accuracy:\", accuracy)\n",
        "print(\"Precision:\", precision)\n",
        "print(\"Recall:\", recall)\n",
        "print(\"F1 score:\", f1)\n",
        "print(\"Confusion matrix:\\n\", conf_matrix)\n",
        "\n",
        "\n"
      ]
    },
    {
      "cell_type": "code",
      "source": [
        "import matplotlib.pyplot as plt\n",
        "import seaborn as sns\n",
        "\n",
        "# Plot the evaluation metrics\n",
        "metrics = ['Accuracy', 'Precision', 'Recall', 'F1 score']\n",
        "scores = [accuracy, precision, recall, f1]\n",
        "\n",
        "plt.figure(figsize=(8, 6))\n",
        "plt.bar(metrics, scores)\n",
        "plt.title('Evaluation Metrics (KNN)')\n",
        "plt.xlabel('Metric')\n",
        "plt.ylabel('Score')\n",
        "plt.ylim(0, 0.7)\n",
        "plt.show()\n",
        "\n",
        "# Plot the confusion matrix\n",
        "plt.figure(figsize=(8, 6))\n",
        "sns.heatmap(conf_matrix, annot=True, cmap='Blues', fmt='g')\n",
        "plt.title('Confusion Matrix (KNN)')\n",
        "plt.show()\n"
      ],
      "metadata": {
        "colab": {
          "base_uri": "https://localhost:8080/",
          "height": 1000
        },
        "id": "Ro4WA_zvu6wV",
        "outputId": "c5118e30-cb3f-4504-b46e-e9ddf6eac2e4"
      },
      "execution_count": null,
      "outputs": [
        {
          "output_type": "display_data",
          "data": {
            "text/plain": [
              "<Figure size 800x600 with 1 Axes>"
            ],
            "image/png": "[encoded data removed]"
          },
          "metadata": {}
        },
        {
          "output_type": "display_data",
          "data": {
            "text/plain": [
              "<Figure size 800x600 with 2 Axes>"
            ],
            "image/png": "[encoded data removed]"
          },
          "metadata": {}
        }
      ]
    }
  ],
  "metadata": {
    "colab": {
      "provenance": []
    },
    "kernelspec": {
      "display_name": "Python 3",
      "name": "python3"
    },
    "language_info": {
      "name": "python"
    }
  },
  "nbformat": 4,
  "nbformat_minor": 0
}